{
 "cells": [
  {
   "cell_type": "code",
   "execution_count": 17,
   "metadata": {},
   "outputs": [],
   "source": [
    "import util\n",
    "import sys\n",
    "import time\n",
    "import numpy as np\n",
    "import random\n",
    "import gc"
   ]
  },
  {
   "cell_type": "code",
   "execution_count": 22,
   "metadata": {},
   "outputs": [],
   "source": [
    "def getInput(N_range=(3,100), A_range=(-100,100)):\n",
    "    \"\"\"\n",
    "    첫째 줄에는 이차원 배열의 크기를 나타내는 정수 N(3≤N≤100)이 주어진다. \n",
    "    다음 N개의 줄에는 각각의 N개의 정수(-100이상 100이하)가 빈 칸을 사이에 두고 주어지는데, \n",
    "    둘째 줄에는 A[1][1]～A[1][N], 셋째 줄에는 A[2][1]～A[2][N], … , N+1번째 줄에는 A[N][1]～A[N][N]의 값이 주어진다.\n",
    "    \"\"\"\n",
    "    N = random.randint(*N_range)\n",
    "    A = np.random.randint(A_range[0], A_range[1], size=(N,N))\n",
    "    message = str(N)+\"\\n\"\n",
    "    for y in range(N):\n",
    "        for x in range(N):\n",
    "            message += str(A[y, x]) + \" \"\n",
    "        message += \"\\n\"\n",
    "    return message"
   ]
  },
  {
   "cell_type": "code",
   "execution_count": 23,
   "metadata": {},
   "outputs": [],
   "source": [
    "def preproc(stdin):\n",
    "    lines=stdin.split('\\n')\n",
    "    N = int(lines[0])\n",
    "    array = np.zeros(dtype='int')\n",
    "    for i in range(N):\n",
    "        \n",
    "def tree_search(array):\n",
    "    pass"
   ]
  },
  {
   "cell_type": "code",
   "execution_count": 34,
   "metadata": {},
   "outputs": [
    {
     "name": "stdout",
     "output_type": "stream",
     "text": [
      "21\n",
      "-20 -56 -4 -10 -100 91 13 -75 -37 27 3 -12 -45 86 -7 -60 1 2 96 -22 -12 \n",
      "93 -99 48 -96 3 -27 -33 -2 85 69 -16 73 -34 -25 -11 32 26 76 -13 21 13 \n",
      "47 -94 66 -4 78 -40 44 -29 65 12 -17 -28 -28 -91 -52 -44 12 19 11 -44 85 \n",
      "-37 66 -57 -1 43 98 -63 -32 91 98 49 40 55 -8 98 51 -65 -35 -78 0 94 \n",
      "-17 -7 -35 -28 -56 -2 74 49 -17 -10 56 18 43 45 35 84 -84 20 -24 -72 -37 \n",
      "-37 -63 -99 -4 38 -97 42 -52 11 71 45 96 97 -35 -65 -79 57 -56 -82 92 -95 \n",
      "-32 5 17 51 -57 46 68 -65 -42 -83 -43 17 -65 -46 -34 -75 66 -18 11 51 -50 \n",
      "-61 19 20 85 -30 -86 99 -46 34 -95 2 -57 -24 -55 93 -81 85 17 49 -36 -96 \n",
      "-54 -85 -86 -80 94 -13 12 -90 85 69 -14 -35 -40 -42 70 -58 -55 -92 -100 33 -47 \n",
      "34 13 -91 -94 94 -68 -43 -82 56 76 -2 3 -77 14 -48 75 76 -17 63 -30 -49 \n",
      "44 -29 -64 -8 68 92 7 13 -3 -20 -77 -86 -100 -100 50 34 0 96 58 -65 19 \n",
      "68 -64 -13 99 -50 -15 -94 78 88 60 -34 57 -23 38 22 -79 19 -11 91 60 -64 \n",
      "22 -7 20 -60 47 81 80 12 -8 9 31 64 -78 -57 44 -64 -26 45 -88 98 -88 \n",
      "-94 -86 -55 82 -22 39 99 15 -100 -35 41 22 -62 -38 -72 -16 47 29 42 22 63 \n",
      "66 -15 16 -81 -1 -67 -59 78 49 -94 -19 37 45 -73 68 99 2 6 -87 -61 10 \n",
      "53 -66 -83 -70 90 -5 92 -93 6 -94 -48 -28 83 -93 38 -44 -15 11 64 -14 -61 \n",
      "88 -7 4 -41 55 11 -76 28 20 68 -100 12 -12 -65 -49 85 98 20 42 -69 -31 \n",
      "2 68 -68 -50 -13 44 -97 46 13 66 -30 51 37 90 -87 -32 -40 82 -6 84 96 \n",
      "-77 -93 -17 98 -93 -62 23 72 77 -6 -88 -82 65 -94 89 35 -24 48 20 -13 34 \n",
      "-76 -87 -21 28 55 45 -5 -24 80 63 22 -34 50 -1 70 61 -46 -34 81 2 39 \n",
      "-60 -90 56 60 -64 -64 -73 16 25 -9 -52 -60 -46 99 -87 42 -9 38 73 74 34 \n",
      "\n",
      "alogrithm took 0.00390625 MBytes, 0.0010004043579101562 seconds\n"
     ]
    }
   ],
   "source": [
    "if __name__ == \"__main__\":\n",
    "    gc.collect()\n",
    "    util.algo_start()\n",
    "    stdin = getInput()\n",
    "    algorithm(stdin)\n",
    "    util.algo_end()"
   ]
  },
  {
   "cell_type": "code",
   "execution_count": 5,
   "metadata": {},
   "outputs": [
    {
     "name": "stderr",
     "output_type": "stream",
     "text": [
      "[TerminalIPythonApp] WARNING | Subcommand `ipython nbconvert` is deprecated and will be removed in future versions.\n",
      "[TerminalIPythonApp] WARNING | You likely want to use `jupyter nbconvert` in the future\n",
      "[NbConvertApp] Converting notebook main.ipynb to python\n",
      "[NbConvertApp] Writing 428 bytes to main.py\n"
     ]
    }
   ],
   "source": [
    "if __name__ == \"__main__\" and util.in_notebook():\n",
    "    !ipython nbconvert --to python main.ipynb"
   ]
  }
 ],
 "metadata": {
  "kernelspec": {
   "display_name": "Python 3",
   "language": "python",
   "name": "python3"
  },
  "language_info": {
   "codemirror_mode": {
    "name": "ipython",
    "version": 3
   },
   "file_extension": ".py",
   "mimetype": "text/x-python",
   "name": "python",
   "nbconvert_exporter": "python",
   "pygments_lexer": "ipython3",
   "version": "3.5.3"
  },
  "toc": {
   "base_numbering": 1,
   "nav_menu": {},
   "number_sections": true,
   "sideBar": true,
   "skip_h1_title": false,
   "title_cell": "Table of Contents",
   "title_sidebar": "Contents",
   "toc_cell": false,
   "toc_position": {},
   "toc_section_display": true,
   "toc_window_display": false
  },
  "varInspector": {
   "cols": {
    "lenName": 16,
    "lenType": 16,
    "lenVar": 40
   },
   "kernels_config": {
    "python": {
     "delete_cmd_postfix": "",
     "delete_cmd_prefix": "del ",
     "library": "var_list.py",
     "varRefreshCmd": "print(var_dic_list())"
    },
    "r": {
     "delete_cmd_postfix": ") ",
     "delete_cmd_prefix": "rm(",
     "library": "var_list.r",
     "varRefreshCmd": "cat(var_dic_list()) "
    }
   },
   "types_to_exclude": [
    "module",
    "function",
    "builtin_function_or_method",
    "instance",
    "_Feature"
   ],
   "window_display": false
  }
 },
 "nbformat": 4,
 "nbformat_minor": 2
}
