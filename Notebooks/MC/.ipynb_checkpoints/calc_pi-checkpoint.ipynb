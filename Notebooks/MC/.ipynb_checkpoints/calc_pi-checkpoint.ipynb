{
 "cells": [
  {
   "cell_type": "code",
   "execution_count": null,
   "metadata": {},
   "outputs": [],
   "source": []
  },
  {
   "cell_type": "code",
   "execution_count": 17,
   "metadata": {},
   "outputs": [
    {
     "data": {
      "text/html": [
       "16"
      ],
      "text/plain": [
       "16"
      ]
     },
     "metadata": {},
     "output_type": "display_data"
    }
   ],
   "source": [
    "using System;\n",
    "using System.Math;\n",
    "using System.Random;\n",
    "using System;\n",
    "using System.Diagnostics;\n",
    "using System.Threading;\n",
    "using System.Threading.Thread;\n",
    "Console.WriteLine(Environment.ProcessorCount);"
   ]
  },
  {
   "cell_type": "code",
   "execution_count": 46,
   "metadata": {},
   "outputs": [
    {
     "data": {
      "text/html": [
       "[00:00:00.0001238] 11"
      ],
      "text/plain": [
       "[00:00:00.0001238] 11"
      ]
     },
     "metadata": {},
     "output_type": "display_data"
    },
    {
     "data": {
      "text/html": [
       "[00:00:00.0080580] 80578"
      ],
      "text/plain": [
       "[00:00:00.0080580] 80578"
      ]
     },
     "metadata": {},
     "output_type": "display_data"
    },
    {
     "data": {
      "text/html": [
       "[00:00:00.0154835] 154833"
      ],
      "text/plain": [
       "[00:00:00.0154835] 154833"
      ]
     },
     "metadata": {},
     "output_type": "display_data"
    },
    {
     "data": {
      "text/html": [
       "[00:00:00.0230682] 230680"
      ],
      "text/plain": [
       "[00:00:00.0230682] 230680"
      ]
     },
     "metadata": {},
     "output_type": "display_data"
    },
    {
     "data": {
      "text/html": [
       "[00:00:00.0310619] 310616"
      ],
      "text/plain": [
       "[00:00:00.0310619] 310616"
      ]
     },
     "metadata": {},
     "output_type": "display_data"
    },
    {
     "data": {
      "text/html": [
       "[00:00:00.0385639] 385637"
      ],
      "text/plain": [
       "[00:00:00.0385639] 385637"
      ]
     },
     "metadata": {},
     "output_type": "display_data"
    },
    {
     "data": {
      "text/html": [
       "[00:00:00.0460629] 460627"
      ],
      "text/plain": [
       "[00:00:00.0460629] 460627"
      ]
     },
     "metadata": {},
     "output_type": "display_data"
    },
    {
     "data": {
      "text/html": [
       "[00:00:00.0535557] 535555"
      ],
      "text/plain": [
       "[00:00:00.0535557] 535555"
      ]
     },
     "metadata": {},
     "output_type": "display_data"
    },
    {
     "data": {
      "text/html": [
       "[00:00:00.0625741] 625736"
      ],
      "text/plain": [
       "[00:00:00.0625741] 625736"
      ]
     },
     "metadata": {},
     "output_type": "display_data"
    },
    {
     "data": {
      "text/html": [
       "[00:00:00.1371822] 700825"
      ],
      "text/plain": [
       "[00:00:00.1371822] 700825"
      ]
     },
     "metadata": {},
     "output_type": "display_data"
    },
    {
     "data": {
      "text/html": [
       "[00:00:00.1450721] 1450718"
      ],
      "text/plain": [
       "[00:00:00.1450721] 1450718"
      ]
     },
     "metadata": {},
     "output_type": "display_data"
    },
    {
     "data": {
      "text/html": [
       "[00:00:00.1530743] 1530742"
      ],
      "text/plain": [
       "[00:00:00.1530743] 1530742"
      ]
     },
     "metadata": {},
     "output_type": "display_data"
    },
    {
     "data": {
      "text/html": [
       "[00:00:00.1605855] 1605850"
      ],
      "text/plain": [
       "[00:00:00.1605855] 1605850"
      ]
     },
     "metadata": {},
     "output_type": "display_data"
    },
    {
     "data": {
      "text/html": [
       "[00:00:00.1681828] 1681818"
      ],
      "text/plain": [
       "[00:00:00.1681828] 1681818"
      ]
     },
     "metadata": {},
     "output_type": "display_data"
    },
    {
     "data": {
      "text/html": [
       "[00:00:00.1756096] 1756087"
      ],
      "text/plain": [
       "[00:00:00.1756096] 1756087"
      ]
     },
     "metadata": {},
     "output_type": "display_data"
    },
    {
     "data": {
      "text/html": [
       "[00:00:00.1830865] 1830859"
      ],
      "text/plain": [
       "[00:00:00.1830865] 1830859"
      ]
     },
     "metadata": {},
     "output_type": "display_data"
    },
    {
     "data": {
      "text/html": [
       "[00:00:00.6558105] done. aprox. pi 3.14156015763547"
      ],
      "text/plain": [
       "[00:00:00.6558105] done. aprox. pi 3.14156015763547"
      ]
     },
     "metadata": {},
     "output_type": "display_data"
    },
    {
     "data": {
      "text/html": [
       "[00:00:00.6559475] differnce. 3.24959543251957E-05"
      ],
      "text/plain": [
       "[00:00:00.6559475] differnce. 3.24959543251957E-05"
      ]
     },
     "metadata": {},
     "output_type": "display_data"
    }
   ],
   "source": [
    "static class Log{\n",
    "    static int count = 0;\n",
    "    public static Stopwatch sw = new Stopwatch();\n",
    "    static Log(){\n",
    "        sw.Start();\n",
    "    }\n",
    "    public static void Write(object obj){\n",
    "        count++;\n",
    "        if(count%10==0)\n",
    "            Console.Clear();\n",
    "        Console.Write(\"[{0}] {1}\",sw.Elapsed, obj);\n",
    "    }\n",
    "}\n",
    "\n",
    "class Worker{\n",
    "    public long TrueCount;\n",
    "    public long FalseCount;\n",
    "    public int ChunchCount = 100000;\n",
    "    Random rand;\n",
    "    public Worker(){\n",
    "        var seed = (int)Log.sw.ElapsedTicks;\n",
    "//         Log.Write(seed);\n",
    "        rand = new Random(seed);\n",
    "    }\n",
    "    public void Run(){\n",
    "        for(int i=0; i<ChunchCount; i++){\n",
    "            var x = rand.NextDouble();\n",
    "            var y = rand.NextDouble();\n",
    "            var d = x*x+y*y;\n",
    "            if(d < 1){\n",
    "                TrueCount++;\n",
    "            }else{\n",
    "                FalseCount++;\n",
    "            }\n",
    "        }\n",
    "    }\n",
    "}\n",
    "\n",
    "var workers = new List<Worker>();\n",
    "for(int i=0; i<Environment.ProcessorCount; i++){\n",
    "    Thread.Sleep(7);\n",
    "    workers.Add(new Worker());\n",
    "}\n",
    "\n",
    "object totalLock = new object();\n",
    "int total = 0;\n",
    "Parallel.For(0, Environment.ProcessorCount, (i)=>{\n",
    "    while(total < 1000){\n",
    "        workers[i].Run();\n",
    "        lock(totalLock){\n",
    "            total++;\n",
    "            //Console.Write(total);\n",
    "        }\n",
    "    }\n",
    "});\n",
    "\n",
    "long tc, fc;\n",
    "foreach(var item in workers){\n",
    "    tc += item.TrueCount;\n",
    "    fc += item.FalseCount;\n",
    "}\n",
    "var size = (double)tc / (tc + fc);\n",
    "var pi = size * 4;\n",
    "Log.Write($\"done. aprox. pi {pi}\");\n",
    "Log.Write($\"differnce. {Math.Abs(Math.PI - pi)}\");"
   ]
  },
  {
   "cell_type": "code",
   "execution_count": null,
   "metadata": {},
   "outputs": [],
   "source": []
  }
 ],
 "metadata": {
  "kernelspec": {
   "display_name": "C#",
   "language": "csharp",
   "name": "csharp"
  },
  "language_info": {
   "file_extension": ".cs",
   "mimetype": "text/x-csharp",
   "name": "C#",
   "pygments_lexer": "c#",
   "version": "4.0.30319"
  },
  "toc": {
   "base_numbering": 1,
   "nav_menu": {},
   "number_sections": true,
   "sideBar": true,
   "skip_h1_title": false,
   "title_cell": "Table of Contents",
   "title_sidebar": "Contents",
   "toc_cell": false,
   "toc_position": {},
   "toc_section_display": true,
   "toc_window_display": false
  },
  "varInspector": {
   "cols": {
    "lenName": 16,
    "lenType": 16,
    "lenVar": 40
   },
   "kernels_config": {
    "python": {
     "delete_cmd_postfix": "",
     "delete_cmd_prefix": "del ",
     "library": "var_list.py",
     "varRefreshCmd": "print(var_dic_list())"
    },
    "r": {
     "delete_cmd_postfix": ") ",
     "delete_cmd_prefix": "rm(",
     "library": "var_list.r",
     "varRefreshCmd": "cat(var_dic_list()) "
    }
   },
   "types_to_exclude": [
    "module",
    "function",
    "builtin_function_or_method",
    "instance",
    "_Feature"
   ],
   "window_display": false
  }
 },
 "nbformat": 4,
 "nbformat_minor": 2
}
