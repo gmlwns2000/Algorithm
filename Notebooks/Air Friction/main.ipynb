{
 "cells": [
  {
   "cell_type": "code",
   "execution_count": 275,
   "metadata": {},
   "outputs": [],
   "source": [
    "import numpy as np\n",
    "import cv2\n",
    "import display\n",
    "import time"
   ]
  },
  {
   "cell_type": "code",
   "execution_count": 96,
   "metadata": {},
   "outputs": [],
   "source": [
    "def getPx(frame, point, viewport):\n",
    "    h,w,_ = frame.shape\n",
    "    x,y=point\n",
    "    vw = viewport[2] - viewport[0]\n",
    "    vh = viewport[1] - viewport[3]\n",
    "    position = ( int((x-viewport[0])/vw*w), int((viewport[1]-y)/vh*h) )\n",
    "    return position\n",
    "#viewport = (p1x, p1y, p2x, p2y)\n",
    "def render(frame, point, viewport=(-5, 45, 95, -5), thickness = 2, color=(0,255,0)):\n",
    "    position = getPx(frame, point, viewport)\n",
    "    cv2.drawMarker(frame, position, color, markerType = 4, markerSize=thickness, thickness=thickness)\n",
    "    return frame"
   ]
  },
  {
   "cell_type": "code",
   "execution_count": 280,
   "metadata": {},
   "outputs": [
    {
     "data": {
      "image/jpeg": "[encoded data removed]",
      "text/plain": [
       "<IPython.core.display.Image object>"
      ]
     },
     "metadata": {},
     "output_type": "display_data"
    },
    {
     "name": "stdout",
     "output_type": "stream",
     "text": [
      "done 0.016002893447875977\n"
     ]
    }
   ],
   "source": [
    "if __name__ == \"__main__\":\n",
    "    #physics\n",
    "    dot = np.array([0,0], dtype=float)\n",
    "    v0 = np.array([30,30], dtype=float)\n",
    "    vector = np.array([30,30], dtype=float)\n",
    "    gravity = np.array([0, -9.8], dtype=float)\n",
    "    air_coe = 0.4\n",
    "    #render\n",
    "    count = 0\n",
    "    tick = .005\n",
    "    viewport = (-5, 45, 95, -5)\n",
    "    frame = np.zeros((360, 720, 3), dtype=np.uint8)\n",
    "    #draw axis\n",
    "    cv2.putText(frame, \"tayler series, tick=0.001, depth=4\", (5, 20), cv2.FONT_HERSHEY_PLAIN, 1, (255,255,0), 1)\n",
    "    cv2.line(frame, getPx(frame, (0,-111110), viewport), getPx(frame, (0,111110), viewport), (255,255,255))\n",
    "    cv2.line(frame, getPx(frame, (-10000,0), viewport), getPx(frame, (10000,0), viewport), (255,255,255))\n",
    "    start = time.time()\n",
    "    while True:\n",
    "        #update\n",
    "        time_delta = tick\n",
    "        preDot = np.copy(dot)\n",
    "        dot += (vector) * time_delta\n",
    "        c = -air_coe\n",
    "#       Euler Method\n",
    "#         vector += (gravity + c * vector) * time_delta\n",
    "#         x = tick*count\n",
    "#         vector += ( (1/c)*(gravity+c*v0)*(c*e**(c*x)) ) * time_delta\n",
    "#       Tailer Series\n",
    "#         t1 = time_delta*(gravity + c * vector)\n",
    "#         vector += t1 \\\n",
    "#                 + 0.5 * (time_delta) * c * t1 \\\n",
    "#                 + 1/6 * (time_delta**3) * (c * (c * ((gravity + c * vector)))) \\\n",
    "#                 + 1/24 * (time_delta**4) * (c * (c * (c * ((gravity + c * vector)))))\n",
    "#         vector += \n",
    "#       Integral\n",
    "#         x = tick * count\n",
    "#         vector = (1/c)*(gravity+c*v0)*(np.e**(c*tick*count)-1)+v0\n",
    "#         print('vp0', vp0,'k1', k1,'k2', k2,'x', x,'vx', vx, (1./c),e**(c*x + k1))\n",
    "        count += 1\n",
    "#         print(dot[1], preDot[1], dot[1] < 0 and preDot[1] > 0)\n",
    "        if dot[1] < 0 and preDot[1] > 0:\n",
    "            pt = getPx(frame, dot, viewport)\n",
    "            val = dot[0]\n",
    "            if abs(preDot[1]) < abs(dot[1]):\n",
    "                val = preDot[0]\n",
    "            cv2.putText(frame, 'x='+str(val), (pt[0]+5, pt[1]-17), cv2.FONT_HERSHEY_PLAIN, 1, (255,255,0), 2)\n",
    "            cv2.putText(frame, 't='+str(tick*count), (pt[0]+5, pt[1]-5), cv2.FONT_HERSHEY_PLAIN, 1, (255,255,0), 2)\n",
    "        #render\n",
    "        frame = render(frame, dot, viewport = viewport)\n",
    "        #exit\n",
    "        if dot[0] > viewport[2] or dot[1] < viewport[3]:\n",
    "            display.imshow(frame, maxSize=(111111,111111), compressPercent=0.98)\n",
    "            print('done', time.time()-start)\n",
    "            break"
   ]
  },
  {
   "cell_type": "code",
   "execution_count": 176,
   "metadata": {},
   "outputs": [
    {
     "data": {
      "text/plain": [
       "7.38905609893065"
      ]
     },
     "execution_count": 176,
     "metadata": {},
     "output_type": "execute_result"
    }
   ],
   "source": [
    "np.exp(2)"
   ]
  },
  {
   "cell_type": "code",
   "execution_count": 272,
   "metadata": {},
   "outputs": [
    {
     "name": "stdout",
     "output_type": "stream",
     "text": [
      "2.718281828459045 2.7178259751422797\n"
     ]
    }
   ],
   "source": [
    "x = 0.0001\n",
    "e = np.e\n",
    "print(e,(e**(1-np.sin(x))-e**(1-np.tan(x)))/(np.tan(x)-np.sin(x)))"
   ]
  },
  {
   "cell_type": "code",
   "execution_count": null,
   "metadata": {},
   "outputs": [],
   "source": []
  }
 ],
 "metadata": {
  "kernelspec": {
   "display_name": "Python 3",
   "language": "python",
   "name": "python3"
  },
  "language_info": {
   "codemirror_mode": {
    "name": "ipython",
    "version": 3
   },
   "file_extension": ".py",
   "mimetype": "text/x-python",
   "name": "python",
   "nbconvert_exporter": "python",
   "pygments_lexer": "ipython3",
   "version": "3.5.3"
  },
  "toc": {
   "base_numbering": 1,
   "nav_menu": {},
   "number_sections": true,
   "sideBar": true,
   "skip_h1_title": false,
   "title_cell": "Table of Contents",
   "title_sidebar": "Contents",
   "toc_cell": false,
   "toc_position": {},
   "toc_section_display": true,
   "toc_window_display": false
  },
  "varInspector": {
   "cols": {
    "lenName": 16,
    "lenType": 16,
    "lenVar": 40
   },
   "kernels_config": {
    "python": {
     "delete_cmd_postfix": "",
     "delete_cmd_prefix": "del ",
     "library": "var_list.py",
     "varRefreshCmd": "print(var_dic_list())"
    },
    "r": {
     "delete_cmd_postfix": ") ",
     "delete_cmd_prefix": "rm(",
     "library": "var_list.r",
     "varRefreshCmd": "cat(var_dic_list()) "
    }
   },
   "types_to_exclude": [
    "module",
    "function",
    "builtin_function_or_method",
    "instance",
    "_Feature"
   ],
   "window_display": false
  }
 },
 "nbformat": 4,
 "nbformat_minor": 2
}
